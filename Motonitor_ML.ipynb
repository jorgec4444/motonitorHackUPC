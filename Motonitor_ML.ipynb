{
  "nbformat": 4,
  "nbformat_minor": 0,
  "metadata": {
    "colab": {
      "name": "Motonitor-ML.ipynb",
      "provenance": [],
      "collapsed_sections": []
    },
    "kernelspec": {
      "name": "python3",
      "display_name": "Python 3"
    },
    "language_info": {
      "name": "python"
    }
  },
  "cells": [
    {
      "cell_type": "code",
      "source": [
        "import pandas as pd\n",
        "from sklearn import model_selection\n",
        "from sklearn.linear_model import LogisticRegression, LinearRegression\n",
        "import numpy as np\n",
        "from pathlib import Path\n",
        "import operator\n",
        "from math import sqrt\n",
        "from statistics import mean\n",
        "import pickle\n",
        "import warnings\n",
        "from sklearn.metrics import r2_score\n",
        "from sklearn import linear_model\n",
        "import matplotlib.pyplot as plt\n",
        "\n",
        "warnings.simplefilter(action='ignore', category=pd.errors.PerformanceWarning)\n",
        "pd.options.mode.chained_assignment = None"
      ],
      "metadata": {
        "id": "5XX2Hknt19e_"
      },
      "execution_count": null,
      "outputs": []
    },
    {
      "cell_type": "code",
      "execution_count": 246,
      "metadata": {
        "id": "fW0zKBSb16_E"
      },
      "outputs": [],
      "source": [
        "y_pred = [] \n",
        "y_true = []\n",
        "class Learner:\n",
        "    ml_model = None\n",
        "    dataset = None\n",
        "    X = None\n",
        "    y = None\n",
        "    enc = None \n",
        "\n",
        "    def set_encoder(self, file):\n",
        "        tmp = pd.read_csv(file)\n",
        "        tmp = tmp.drop(columns=['Price'])\n",
        "        self.enc = pd.get_dummies(tmp).columns\n",
        "\n",
        "    def train_and_predict(self, file, brand, model, kms, license, year, capacity, type_):\n",
        "        if(self.preprocess(file, brand, model)==-1):\n",
        "          return -1\n",
        "        self.learn()\n",
        "        return self.predict(brand, model, kms, license, year, capacity, type_)\n",
        "\n",
        "    def preprocess(self, file, brand, model):\n",
        "        self.dataset = pd.read_csv(file)\n",
        "        self.dataset = self.dataset.fillna(0)\n",
        "        if(len(self.dataset)==0):\n",
        "          return -1\n",
        "        self.y = self.dataset['Price'].copy()\n",
        "        self.X = self.dataset.drop(columns=['Price']).copy()\n",
        "        self.X = pd.get_dummies(self.X)\n",
        "        for i in self.enc:\n",
        "            if i not in self.X:\n",
        "                self.X[i] = 0\n",
        "        \n",
        "        self.X = self.X.reindex(sorted(self.X.columns), axis=1)\n",
        "\n",
        "    def learn(self):\n",
        "        self.ml_model = LinearRegression()\n",
        "        self.ml_model.fit(self.X, self.y)\n",
        "        # save the model to disk\n",
        "        #filename = 'finalized_model.sav'\n",
        "        #pickle.dump(self.ml_model, open(filename, 'wb'))\n",
        "\n",
        "        return self.ml_model\n",
        "\n",
        "    def predict(self, brand, model, kms, license, year, capacity, type_):\n",
        "        dt = pd.DataFrame.from_dict({'Kms': [kms], 'License': [license], 'Year': [year], 'Capacity': [capacity],\n",
        "                                       'Type': [type_], 'Brand': [brand], 'Model':[model]})\n",
        "        dt = pd.get_dummies(dt)\n",
        "        for i in self.enc:\n",
        "            if i not in dt:\n",
        "                dt[i] = 0\n",
        "        dt = dt.reindex(sorted(dt.columns), axis=1)\n",
        "        val = self.ml_model.predict(dt)[0]\n",
        "        #return self.ml_model.predict(dt)[0]\n",
        "        return \"{0:.3f}\".format(val)\n",
        "    \n",
        "    def score(self):\n",
        "        df = pd.read_csv('motoDatasetFinal.csv')\n",
        "        df.fillna(0)\n",
        "        y = df['Price'].copy()\n",
        "        X = df.drop(columns=['Price']).copy()\n",
        "        self.X = df.drop(columns=['Price']).copy()\n",
        "                \n",
        "        X_train, X_test, y_train, y_test = model_selection.train_test_split(X, y, test_size=0.1, random_state=6)\n",
        "\n",
        "        for row, col in X_test.iterrows():\n",
        "            try:\n",
        "              if (len(col)==7):\n",
        "                pred = self.train_and_predict('motoDatasetFinal.csv', col['Brand'], col['Model'], col['Kms'], col['License'], col['Year'],\n",
        "                                          col['Capacity'], col['Type'])\n",
        "                if(pred!=-1):\n",
        "                  y_pred.append(pred)\n",
        "                  y_true.append(y_test[row])\n",
        "            except ValueError:\n",
        "              continue\n",
        "\n",
        "        score = r2_score(y_true, y_pred)\n",
        "        y\n",
        "        print(score)\n",
        "        return score"
      ]
    },
    {
      "cell_type": "code",
      "source": [
        "learner = Learner()\n",
        "learner.set_encoder('motoDatasetFinal.csv')\n",
        "learner.score()"
      ],
      "metadata": {
        "colab": {
          "base_uri": "https://localhost:8080/"
        },
        "id": "f8ONfTAh9o0t",
        "outputId": "34360e1a-5888-4673-864f-2b2bceeb9f78"
      },
      "execution_count": 247,
      "outputs": [
        {
          "output_type": "stream",
          "name": "stdout",
          "text": [
            "0.8441849662388969\n"
          ]
        },
        {
          "output_type": "stream",
          "name": "stderr",
          "text": [
            "/usr/local/lib/python3.7/dist-packages/sklearn/metrics/_regression.py:96: FutureWarning: Arrays of bytes/strings is being converted to decimal numbers if dtype='numeric'. This behavior is deprecated in 0.24 and will be removed in 1.1 (renaming of 0.26). Please convert your data to numeric values explicitly instead.\n",
            "  y_pred = check_array(y_pred, ensure_2d=False, dtype=dtype)\n"
          ]
        },
        {
          "output_type": "execute_result",
          "data": {
            "text/plain": [
              "0.8441849662388969"
            ]
          },
          "metadata": {},
          "execution_count": 247
        }
      ]
    },
    {
      "cell_type": "code",
      "source": [
        "from numpy.ma.core import std\n",
        "from sklearn.preprocessing import StandardScaler\n",
        "s = StandardScaler()\n",
        "import numpy as np\n",
        "y_pred_n = np.array(y_pred, dtype=float)\n",
        "y_true_n = np.array(y_true, dtype=float)\n",
        "\n",
        "plt.scatter(y_pred_n,y_true_n)\n",
        "plt.show()"
      ],
      "metadata": {
        "colab": {
          "base_uri": "https://localhost:8080/",
          "height": 265
        },
        "id": "a4QLz8OZOe6n",
        "outputId": "fbaca920-cb54-41c7-d2b3-0ae6417e4a71"
      },
      "execution_count": 250,
      "outputs": [
        {
          "output_type": "display_data",
          "data": {
            "text/plain": [
              "<Figure size 432x288 with 1 Axes>"
            ],
            "image/png": "[encoded data removed]"
          },
          "metadata": {
            "needs_background": "light"
          }
        }
      ]
    }
  ]
}